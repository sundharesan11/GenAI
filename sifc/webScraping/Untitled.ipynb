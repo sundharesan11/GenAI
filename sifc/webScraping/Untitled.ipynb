{
 "cells": [
  {
   "cell_type": "code",
   "execution_count": 1,
   "id": "a50d648e",
   "metadata": {},
   "outputs": [
    {
     "name": "stdout",
     "output_type": "stream",
     "text": [
      "Defaulting to user installation because normal site-packages is not writeable\n",
      "Requirement already satisfied: beautifulsoup4 in c:\\programdata\\anaconda3\\lib\\site-packages (4.11.1)\n",
      "Requirement already satisfied: soupsieve>1.2 in c:\\programdata\\anaconda3\\lib\\site-packages (from beautifulsoup4) (2.3.2.post1)\n",
      "Note: you may need to restart the kernel to use updated packages.\n"
     ]
    },
    {
     "name": "stderr",
     "output_type": "stream",
     "text": [
      "\n",
      "[notice] A new release of pip is available: 23.2.1 -> 23.3.1\n",
      "[notice] To update, run: python.exe -m pip install --upgrade pip\n"
     ]
    }
   ],
   "source": [
    "pip install beautifulsoup4"
   ]
  },
  {
   "cell_type": "code",
   "execution_count": 2,
   "id": "51c10001",
   "metadata": {},
   "outputs": [],
   "source": [
    "import requests\n",
    "from bs4 import BeautifulSoup\n",
    "import os\n",
    "import urllib.request\n",
    "\n",
    "# Function to download images\n",
    "def download_images(url, folder_path):\n",
    "    try:\n",
    "        response = requests.get(url)\n",
    "        soup = BeautifulSoup(response.content, 'html.parser')\n",
    "        img_tags = soup.find_all('img')\n",
    "\n",
    "        for img in img_tags:\n",
    "            img_url = img.get('src')\n",
    "            if img_url and ('.jpg' in img_url or '.png' in img_url):\n",
    "                img_name = os.path.join(folder_path, img_url.split('/')[-1])\n",
    "                urllib.request.urlretrieve(img_url, img_name)\n",
    "                print(f\"Downloaded: {img_name}\")\n",
    "\n",
    "    except Exception as e:\n",
    "        print(f\"Error: {e}\")\n",
    "\n",
    "def scrape_idli_images():\n",
    "    # URL of the website containing idli images\n",
    "    url = 'https://in.pinterest.com/search/pins/?rs=ac&len=2&q=idli%20recipe&eq=idli&etslf=4143'  # Replace with the actual URL\n",
    "\n",
    "    # Folder to save the downloaded images\n",
    "    folder_path = 'idli_images'  # Change to your desired folder path\n",
    "    if not os.path.exists(folder_path):\n",
    "        os.makedirs(folder_path)\n",
    "\n",
    "    download_images(url, folder_path)\n",
    "\n",
    "# Run the function to scrape idli images\n",
    "scrape_idli_images()"
   ]
  },
  {
   "cell_type": "code",
   "execution_count": null,
   "id": "c2f38d06",
   "metadata": {},
   "outputs": [],
   "source": []
  }
 ],
 "metadata": {
  "kernelspec": {
   "display_name": "Python 3 (ipykernel)",
   "language": "python",
   "name": "python3"
  },
  "language_info": {
   "codemirror_mode": {
    "name": "ipython",
    "version": 3
   },
   "file_extension": ".py",
   "mimetype": "text/x-python",
   "name": "python",
   "nbconvert_exporter": "python",
   "pygments_lexer": "ipython3",
   "version": "3.10.9"
  }
 },
 "nbformat": 4,
 "nbformat_minor": 5
}
